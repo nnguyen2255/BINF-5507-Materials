{
 "cells": [
  {
   "cell_type": "code",
   "execution_count": 3,
   "id": "40a2ae65",
   "metadata": {},
   "outputs": [
    {
     "name": "stdout",
     "output_type": "stream",
     "text": [
      "age           0\n",
      "sex           0\n",
      "dataset       0\n",
      "cp            0\n",
      "trestbps     59\n",
      "chol         30\n",
      "fbs          90\n",
      "restecg       2\n",
      "thalch       55\n",
      "exang        55\n",
      "oldpeak      62\n",
      "slope       309\n",
      "ca          611\n",
      "thal        486\n",
      "num           0\n",
      "dtype: int64\n",
      "age           int64\n",
      "sex          object\n",
      "dataset      object\n",
      "cp           object\n",
      "trestbps    float64\n",
      "chol        float64\n",
      "fbs          object\n",
      "restecg      object\n",
      "thalch      float64\n",
      "exang        object\n",
      "oldpeak     float64\n",
      "slope        object\n",
      "ca          float64\n",
      "thal         object\n",
      "num           int64\n",
      "dtype: object\n"
     ]
    }
   ],
   "source": [
    "# Import necessary modules\n",
    "# import data_preprocessor as dp\n",
    "import numpy as np\n",
    "import pandas as pd\n",
    "import matplotlib.pyplot as plt\n",
    "import seaborn as sns\n",
    "from sklearn.model_selection import train_test_split\n",
    "from sklearn.linear_model import LinearRegression\n",
    "from sklearn.metrics import mean_squared_error, r2_score\n",
    "\n",
    "#Load the dataset\n",
    "import pandas as pd\n",
    "df = pd.read_csv('../Data/heart_disease_uci.csv')\n",
    "\n",
    "#Data Preprocessing\n",
    "# Check for missing values\n",
    "print(df.isnull().sum())\n",
    "# Drop rows with missing values\n",
    "# df.dropna(inplace=True)\n",
    "#check the data types\n",
    "print(df.dtypes)\n",
    "\n",
    "#Set up the x and y \n",
    "\n",
    "#Split the data into training and testing sets\n",
    "\n",
    "#Train the linear regression model\n",
    "\n",
    "#Predict on the test set\n",
    "\n",
    "#Evaluate the model's performance\n",
    "\n",
    "#Plot the results\n"
   ]
  }
 ],
 "metadata": {
  "kernelspec": {
   "display_name": "base",
   "language": "python",
   "name": "python3"
  },
  "language_info": {
   "codemirror_mode": {
    "name": "ipython",
    "version": 3
   },
   "file_extension": ".py",
   "mimetype": "text/x-python",
   "name": "python",
   "nbconvert_exporter": "python",
   "pygments_lexer": "ipython3",
   "version": "3.12.9"
  }
 },
 "nbformat": 4,
 "nbformat_minor": 5
}
