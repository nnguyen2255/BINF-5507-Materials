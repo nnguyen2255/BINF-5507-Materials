{
 "cells": [
  {
   "cell_type": "code",
   "execution_count": null,
   "id": "40a2ae65",
   "metadata": {},
   "outputs": [],
   "source": [
    "# Loaded variable 'df' from URI: /Users/nhinguyen/Desktop/HUMBER/BINF5507-Git/BINF-5507-Materials/heart_disease_uci(1).csv\n",
    "import pandas as pd\n",
    "df = pd.read_csv(r'/Users/nhinguyen/Desktop/HUMBER/BINF5507-Git/BINF-5507-Materials/heart_disease_uci(1).csv')"
   ]
  }
 ],
 "metadata": {
  "kernelspec": {
   "display_name": "base",
   "language": "python",
   "name": "python3"
  },
  "language_info": {
   "name": "python",
   "version": "3.12.9"
  }
 },
 "nbformat": 4,
 "nbformat_minor": 5
}
