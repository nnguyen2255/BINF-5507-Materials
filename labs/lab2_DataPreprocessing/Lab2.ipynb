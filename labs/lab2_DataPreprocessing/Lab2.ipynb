{
 "cells": [
  {
   "cell_type": "markdown",
   "metadata": {},
   "source": [
    "# Lab 2: Data Loading, Cleaning, and Exploration\n",
    "\n",
    "In this lab, we will cover the following topics:\n",
    "1. Data loading and cleaning\n",
    "2. Handling missing data\n",
    "3. Feature engineering examples\n",
    "4. Visualizations/data exploration\n",
    "\n",
    "Each section includes basic implementation and questions for further exploration."
   ]
  },
  {
   "cell_type": "markdown",
   "metadata": {},
   "source": [
    "## 1. Data Loading and Cleaning\n",
    "\n",
    "We will start by loading and cleaning a dataset. We will also explore different techniques for data cleaning."
   ]
  },
  {
   "cell_type": "code",
   "execution_count": 1,
   "metadata": {},
   "outputs": [],
   "source": [
    "import functionals as f\n",
    "import pandas as pd\n",
    "import numpy as np\n",
    "\n",
    "# Load the dataset\n",
    "path_to_file = 'messy_data.csv'\n",
    "data = pd.read_csv(path_to_file)\n",
    "\n",
    "# Display dataset information\n",
    "# data.head()\n",
    "# data.info(\n",
    "# data.describe()\n",
    "\n",
    "# Run the simple model\n",
    "# f.simple_model(data)"
   ]
  },
  {
   "cell_type": "markdown",
   "metadata": {},
   "source": [
    "## Data Cleaning\n",
    "\n",
    "We will clean the dataset by removing duplicates, fixing inconsistent entries and removing outliers."
   ]
  },
  {
   "cell_type": "code",
   "execution_count": 16,
   "metadata": {},
   "outputs": [],
   "source": [
    "# Remove duplicates\n",
    "cleaned_data = data.copy()\n",
    "cleaned_data = cleaned_data.drop_duplicates()\n",
    "\n",
    "# Fix inconsistent entries\n",
    "cleaned_data['sex'] = cleaned_data['sex'].apply(lambda x: 'female' if 'F' in x or 'f' in x else 'male')\n",
    "\n",
    "# Check for outliers - if they exist, remove them\n",
    "# <insert code here>\n",
    "cleaned_data = cleaned_data.dropna()\n",
    "# Dataset with no duplicates, fixed format, missing values and outlier removed (if they exist)\n",
    "cleaned_data.to_csv('data_no_duplicates.csv', index=False)\n",
    "\n"
   ]
  },
  {
   "cell_type": "markdown",
   "metadata": {},
   "source": [
    "### Questions for Exploration\n",
    "\n",
    "1. How does the following affect model performance?\n",
    "    * removing duplicates\n",
    "    * fixing inconsistencies  \n",
    "2. What other inconsistencies can you find and fix in the dataset?\n",
    "3. How does the choice of dataset affect the data cleaning process?"
   ]
  },
  {
   "cell_type": "markdown",
   "metadata": {},
   "source": [
    "## 2. Handling Missing Data\n",
    "\n",
    "We will handle missing data by using different techniques such as imputation and deletion. We will also explore the impact of these techniques on the dataset."
   ]
  },
  {
   "cell_type": "code",
   "execution_count": 19,
   "metadata": {},
   "outputs": [
    {
     "name": "stdout",
     "output_type": "stream",
     "text": [
      "survived       0\n",
      "deck           0\n",
      "embarked       0\n",
      "pclass         0\n",
      "embark_town    0\n",
      "sex            0\n",
      "adult_male     0\n",
      "who            0\n",
      "wspd           0\n",
      "lfwa           0\n",
      "class          0\n",
      "tprc           0\n",
      "sibsp          0\n",
      "age            0\n",
      "alone          0\n",
      "fare           0\n",
      "parch          0\n",
      "dtype: int64\n"
     ]
    },
    {
     "name": "stderr",
     "output_type": "stream",
     "text": [
      "/var/folders/p3/rf4qqwbj5td08r07369s000r0000gn/T/ipykernel_14990/1435627975.py:12: FutureWarning: A value is trying to be set on a copy of a DataFrame or Series through chained assignment using an inplace method.\n",
      "The behavior will change in pandas 3.0. This inplace method will never work because the intermediate object on which we are setting values always behaves as a copy.\n",
      "\n",
      "For example, when doing 'df[col].method(value, inplace=True)', try using 'df.method({col: value}, inplace=True)' or df[col] = df[col].method(value) instead, to perform the operation inplace on the original object.\n",
      "\n",
      "\n",
      "  data_copy[col].fillna(data_copy[col].mean(), inplace=True)\n"
     ]
    },
    {
     "data": {
      "application/vnd.microsoft.datawrangler.viewer.v0+json": {
       "columns": [
        {
         "name": "index",
         "rawType": "int64",
         "type": "integer"
        },
        {
         "name": "survived",
         "rawType": "int64",
         "type": "integer"
        },
        {
         "name": "deck",
         "rawType": "object",
         "type": "string"
        },
        {
         "name": "embarked",
         "rawType": "object",
         "type": "string"
        },
        {
         "name": "pclass",
         "rawType": "float64",
         "type": "float"
        },
        {
         "name": "embark_town",
         "rawType": "object",
         "type": "string"
        },
        {
         "name": "sex",
         "rawType": "object",
         "type": "string"
        },
        {
         "name": "adult_male",
         "rawType": "bool",
         "type": "boolean"
        },
        {
         "name": "who",
         "rawType": "object",
         "type": "string"
        },
        {
         "name": "wspd",
         "rawType": "float64",
         "type": "float"
        },
        {
         "name": "lfwa",
         "rawType": "float64",
         "type": "float"
        },
        {
         "name": "class",
         "rawType": "object",
         "type": "string"
        },
        {
         "name": "tprc",
         "rawType": "float64",
         "type": "float"
        },
        {
         "name": "sibsp",
         "rawType": "float64",
         "type": "float"
        },
        {
         "name": "age",
         "rawType": "float64",
         "type": "float"
        },
        {
         "name": "alone",
         "rawType": "bool",
         "type": "boolean"
        },
        {
         "name": "fare",
         "rawType": "float64",
         "type": "float"
        },
        {
         "name": "parch",
         "rawType": "float64",
         "type": "float"
        }
       ],
       "ref": "b8d15157-8e93-4d4c-a8d1-e90ccb3f6f3a",
       "rows": [
        [
         "1",
         "1",
         "C",
         "C",
         "1.0",
         "Cherbourg",
         "female",
         "False",
         "woman",
         "38.0",
         "76.0",
         "First",
         "215.8499",
         "1.0",
         "38.0",
         "False",
         "71.2833",
         "0.0"
        ],
        [
         "6",
         "0",
         "E",
         "S",
         "1.0",
         "Southampton",
         "male",
         "True",
         "man",
         "54.0",
         "108.0",
         "First",
         "157.58749999999998",
         "0.0",
         "54.0",
         "True",
         "51.8625",
         "0.0"
        ],
        [
         "10",
         "1",
         "G",
         "S",
         "3.0",
         "Southampton",
         "female",
         "False",
         "child",
         "4.0",
         "8.0",
         "Third",
         "52.099999999999994",
         "1.0",
         "4.0",
         "False",
         "16.7",
         "1.0"
        ],
        [
         "21",
         "1",
         "D",
         "S",
         "2.0",
         "Southampton",
         "male",
         "True",
         "man",
         "34.0",
         "68.0",
         "Second",
         "41.0",
         "0.0",
         "34.0",
         "True",
         "13.0",
         "0.0"
        ],
        [
         "23",
         "1",
         "A",
         "S",
         "1.0",
         "Southampton",
         "male",
         "True",
         "man",
         "28.0",
         "56.0",
         "First",
         "108.5",
         "0.0",
         "28.0",
         "True",
         "35.5",
         "0.0"
        ]
       ],
       "shape": {
        "columns": 17,
        "rows": 5
       }
      },
      "text/html": [
       "<div>\n",
       "<style scoped>\n",
       "    .dataframe tbody tr th:only-of-type {\n",
       "        vertical-align: middle;\n",
       "    }\n",
       "\n",
       "    .dataframe tbody tr th {\n",
       "        vertical-align: top;\n",
       "    }\n",
       "\n",
       "    .dataframe thead th {\n",
       "        text-align: right;\n",
       "    }\n",
       "</style>\n",
       "<table border=\"1\" class=\"dataframe\">\n",
       "  <thead>\n",
       "    <tr style=\"text-align: right;\">\n",
       "      <th></th>\n",
       "      <th>survived</th>\n",
       "      <th>deck</th>\n",
       "      <th>embarked</th>\n",
       "      <th>pclass</th>\n",
       "      <th>embark_town</th>\n",
       "      <th>sex</th>\n",
       "      <th>adult_male</th>\n",
       "      <th>who</th>\n",
       "      <th>wspd</th>\n",
       "      <th>lfwa</th>\n",
       "      <th>class</th>\n",
       "      <th>tprc</th>\n",
       "      <th>sibsp</th>\n",
       "      <th>age</th>\n",
       "      <th>alone</th>\n",
       "      <th>fare</th>\n",
       "      <th>parch</th>\n",
       "    </tr>\n",
       "  </thead>\n",
       "  <tbody>\n",
       "    <tr>\n",
       "      <th>1</th>\n",
       "      <td>1</td>\n",
       "      <td>C</td>\n",
       "      <td>C</td>\n",
       "      <td>1.0</td>\n",
       "      <td>Cherbourg</td>\n",
       "      <td>female</td>\n",
       "      <td>False</td>\n",
       "      <td>woman</td>\n",
       "      <td>38.0</td>\n",
       "      <td>76.0</td>\n",
       "      <td>First</td>\n",
       "      <td>215.8499</td>\n",
       "      <td>1.0</td>\n",
       "      <td>38.0</td>\n",
       "      <td>False</td>\n",
       "      <td>71.2833</td>\n",
       "      <td>0.0</td>\n",
       "    </tr>\n",
       "    <tr>\n",
       "      <th>6</th>\n",
       "      <td>0</td>\n",
       "      <td>E</td>\n",
       "      <td>S</td>\n",
       "      <td>1.0</td>\n",
       "      <td>Southampton</td>\n",
       "      <td>male</td>\n",
       "      <td>True</td>\n",
       "      <td>man</td>\n",
       "      <td>54.0</td>\n",
       "      <td>108.0</td>\n",
       "      <td>First</td>\n",
       "      <td>157.5875</td>\n",
       "      <td>0.0</td>\n",
       "      <td>54.0</td>\n",
       "      <td>True</td>\n",
       "      <td>51.8625</td>\n",
       "      <td>0.0</td>\n",
       "    </tr>\n",
       "    <tr>\n",
       "      <th>10</th>\n",
       "      <td>1</td>\n",
       "      <td>G</td>\n",
       "      <td>S</td>\n",
       "      <td>3.0</td>\n",
       "      <td>Southampton</td>\n",
       "      <td>female</td>\n",
       "      <td>False</td>\n",
       "      <td>child</td>\n",
       "      <td>4.0</td>\n",
       "      <td>8.0</td>\n",
       "      <td>Third</td>\n",
       "      <td>52.1000</td>\n",
       "      <td>1.0</td>\n",
       "      <td>4.0</td>\n",
       "      <td>False</td>\n",
       "      <td>16.7000</td>\n",
       "      <td>1.0</td>\n",
       "    </tr>\n",
       "    <tr>\n",
       "      <th>21</th>\n",
       "      <td>1</td>\n",
       "      <td>D</td>\n",
       "      <td>S</td>\n",
       "      <td>2.0</td>\n",
       "      <td>Southampton</td>\n",
       "      <td>male</td>\n",
       "      <td>True</td>\n",
       "      <td>man</td>\n",
       "      <td>34.0</td>\n",
       "      <td>68.0</td>\n",
       "      <td>Second</td>\n",
       "      <td>41.0000</td>\n",
       "      <td>0.0</td>\n",
       "      <td>34.0</td>\n",
       "      <td>True</td>\n",
       "      <td>13.0000</td>\n",
       "      <td>0.0</td>\n",
       "    </tr>\n",
       "    <tr>\n",
       "      <th>23</th>\n",
       "      <td>1</td>\n",
       "      <td>A</td>\n",
       "      <td>S</td>\n",
       "      <td>1.0</td>\n",
       "      <td>Southampton</td>\n",
       "      <td>male</td>\n",
       "      <td>True</td>\n",
       "      <td>man</td>\n",
       "      <td>28.0</td>\n",
       "      <td>56.0</td>\n",
       "      <td>First</td>\n",
       "      <td>108.5000</td>\n",
       "      <td>0.0</td>\n",
       "      <td>28.0</td>\n",
       "      <td>True</td>\n",
       "      <td>35.5000</td>\n",
       "      <td>0.0</td>\n",
       "    </tr>\n",
       "  </tbody>\n",
       "</table>\n",
       "</div>"
      ],
      "text/plain": [
       "    survived deck embarked  pclass  embark_town     sex  adult_male    who  \\\n",
       "1          1    C        C     1.0    Cherbourg  female       False  woman   \n",
       "6          0    E        S     1.0  Southampton    male        True    man   \n",
       "10         1    G        S     3.0  Southampton  female       False  child   \n",
       "21         1    D        S     2.0  Southampton    male        True    man   \n",
       "23         1    A        S     1.0  Southampton    male        True    man   \n",
       "\n",
       "    wspd   lfwa   class      tprc  sibsp   age  alone     fare  parch  \n",
       "1   38.0   76.0   First  215.8499    1.0  38.0  False  71.2833    0.0  \n",
       "6   54.0  108.0   First  157.5875    0.0  54.0   True  51.8625    0.0  \n",
       "10   4.0    8.0   Third   52.1000    1.0   4.0  False  16.7000    1.0  \n",
       "21  34.0   68.0  Second   41.0000    0.0  34.0   True  13.0000    0.0  \n",
       "23  28.0   56.0   First  108.5000    0.0  28.0   True  35.5000    0.0  "
      ]
     },
     "execution_count": 19,
     "metadata": {},
     "output_type": "execute_result"
    }
   ],
   "source": [
    "# Identify missing values\n",
    "missing_data = data.isnull().sum()\n",
    "print(missing_data)\n",
    "\n",
    "# Impute missing values\n",
    "data_copy = data.copy()\n",
    "numerical_col_name = data_copy.select_dtypes(include=['number']).columns\n",
    "categorical_col_name = categorical_col_name = data_copy.select_dtypes(include=['object']).columns\n",
    "\n",
    "# Fill missing values for numerical columns with mean and categorical with mode\n",
    "for col in numerical_col_name:\n",
    "    data_copy[col].fillna(data_copy[col].mean(), inplace=True)\n",
    "for col in categorical_col_name:\n",
    "    mode_val = data_copy[col].mode()\n",
    "    if not mode_val.empty:\n",
    "        data_copy[col] = data_copy[col].fillna(mode_val[0])\n",
    "    else:\n",
    "        data_copy[col] = data_copy[col].fillna('Unknown')\n",
    "# Fill specific columns with appropriate values\n",
    "\n",
    "# data_copy['age'].fillna(data_copy['age'].mean(), inplace=True)\n",
    "# data_copy['embarked'].fillna(data_copy['embarked'].mode()[0], inplace=True)\n",
    "\n",
    "\n",
    "\n",
    "\n",
    "\n",
    "        \n",
    "# Drop rows with missing values\n",
    "# data_copy = data_copy.dropna()\n",
    "\n",
    "# Save the cleaned dataset\n",
    "data_copy.to_csv('cleaned_data_lab2_UPDATE.csv', index=False)\n",
    "\n",
    "# Display the dataset after handling missing data\n",
    "data.head()\n"
   ]
  },
  {
   "cell_type": "markdown",
   "metadata": {},
   "source": [
    "### Questions for Exploration\n",
    "\n",
    "1. How does the following affect model performance:\n",
    "    * imputation \n",
    "    * dropping rows with missing values\n",
    "2. What happens to the model performance if you use different imputation techniques (e.g., median, mode)?\n",
    "3. How does the choice of dataset affect the handling of missing data?"
   ]
  },
  {
   "cell_type": "markdown",
   "metadata": {},
   "source": [
    "## 3. Feature Engineering Examples\n",
    "\n",
    "Next, we will create new features from the existing ones. We will also explore different techniques for feature engineering."
   ]
  },
  {
   "cell_type": "code",
   "execution_count": null,
   "metadata": {},
   "outputs": [],
   "source": [
    "# Create new features\n",
    "data_new_features = data.copy()\n",
    "data_new_features['family_size'] = data_new_features['sibsp'] + data_new_features['parch'] + 1\n",
    "data_new_features['is_alone'] = (data_new_features['family_size'] == 1).astype(int)\n",
    "\n",
    "# Any other features you can think of?\n",
    "\n",
    "# Scale the numerical features\n",
    "# <insert code here>"
   ]
  },
  {
   "cell_type": "markdown",
   "metadata": {},
   "source": [
    "### Questions for Exploration\n",
    "\n",
    "1. How do the new features affect model performance?\n",
    "2. What other features can you create from the existing ones?\n",
    "3. How does feature scaling (e.g., standardization, normalization) affect model performance? (Keep in mind that the data should be scaled **after** data splitting; this will require modifying the simple_model method in functionals.)"
   ]
  },
  {
   "cell_type": "markdown",
   "metadata": {},
   "source": [
    "## 4. Visualizations/Data Exploration\n",
    "\n",
    "We will visualize and explore the dataset using different techniques. We will also explore the impact of these visualizations on data interpretation."
   ]
  },
  {
   "cell_type": "code",
   "execution_count": null,
   "metadata": {},
   "outputs": [],
   "source": [
    "import matplotlib.pyplot as plt\n",
    "import seaborn as sns\n",
    "\n",
    "# Histogram of age\n",
    "plt.figure(figsize=(10, 6))\n",
    "sns.histplot(data['age'], bins=30, kde=True)\n",
    "plt.title('Age Distribution')\n",
    "plt.xlabel('Age')\n",
    "plt.ylabel('Frequency')\n",
    "plt.show()\n",
    "\n",
    "# Bar plot of survival by sex\n",
    "plt.figure(figsize=(10, 6))\n",
    "sns.barplot(x='sex', y='survived', data=data)\n",
    "plt.title('Survival by Sex')\n",
    "plt.xlabel('Sex')\n",
    "plt.ylabel('Survival Rate')\n",
    "plt.show()\n",
    "\n",
    "# Pair plot of numerical features\n",
    "sns.pairplot(data[['age', 'fare', 'family_size', 'survived']], hue='survived')\n",
    "plt.show()\n"
   ]
  },
  {
   "cell_type": "markdown",
   "metadata": {},
   "source": [
    "### Questions for Exploration\n",
    "\n",
    "1. How do the visualizations help in understanding the dataset?\n",
    "2. What other visualizations can you create to explore the dataset?\n",
    "3. How does the choice of visualization technique affect the interpretation of the data?"
   ]
  },
  {
   "cell_type": "markdown",
   "metadata": {},
   "source": [
    "## Extensions\n",
    "\n",
    "Explore other data preprocessing techniques such as:\n",
    "- Encoding categorical variables (e.g., one-hot encoding, label encoding) - i.e., if you modify the simple_model method to only include numerical features, omitting the categorical variables\n",
    "- Feature selection techniques (i.e., assessing inter-feature correlation and removing )\n",
    "\n",
    "Compare their impact on the dataset and the performance of downstream machine learning models. \n",
    "Can you identify any sources of bias in the dataset?"
   ]
  }
 ],
 "metadata": {
  "kernelspec": {
   "display_name": "base",
   "language": "python",
   "name": "python3"
  },
  "language_info": {
   "codemirror_mode": {
    "name": "ipython",
    "version": 3
   },
   "file_extension": ".py",
   "mimetype": "text/x-python",
   "name": "python",
   "nbconvert_exporter": "python",
   "pygments_lexer": "ipython3",
   "version": "3.12.7"
  }
 },
 "nbformat": 4,
 "nbformat_minor": 4
}
